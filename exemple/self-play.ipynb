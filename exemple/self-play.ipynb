{
 "cells": [
  {
   "cell_type": "code",
   "execution_count": 1,
   "id": "f2d81577-4742-433e-b709-f7b8a703ae19",
   "metadata": {
    "tags": []
   },
   "outputs": [],
   "source": [
    "import gym\n",
    "import numpy as np\n",
    "\n",
    "from IPython.display import clear_output, display"
   ]
  },
  {
   "cell_type": "code",
   "execution_count": 2,
   "id": "92a5def2-487d-430d-b515-1e3232e2adc0",
   "metadata": {
    "tags": []
   },
   "outputs": [],
   "source": [
    "env = gym.make('ml_chess_env:ChessGameEnv')"
   ]
  },
  {
   "cell_type": "code",
   "execution_count": 3,
   "id": "c8c8f454-9efb-4da2-8b04-b7634c3ac1c0",
   "metadata": {
    "tags": []
   },
   "outputs": [],
   "source": [
    "def white_policy(state, mask):\n",
    "    \"\"\"\n",
    "    random policy\n",
    "    \"\"\"\n",
    "    moves = np.where(mask == True)[0]\n",
    "    move = np.random.choice(moves)\n",
    "    return move"
   ]
  },
  {
   "cell_type": "code",
   "execution_count": 4,
   "id": "afe7c59e-ffe4-4dab-8817-bf2d1cb6a707",
   "metadata": {
    "tags": []
   },
   "outputs": [],
   "source": [
    "def parse_move(move_str):\n",
    "    row_from = ord(move_str[0]) - ord('a')\n",
    "    col_from = int(move_str[1]) - 1\n",
    "    row_to = ord(move_str[2]) - ord('a')\n",
    "    col_to = int(move_str[3]) - 1\n",
    "    \n",
    "    square_from = row_from + 8 * col_from\n",
    "    square_to = row_to + 8 * col_to\n",
    "    \n",
    "    action_id = 64 * square_from + square_to\n",
    "    return action_id"
   ]
  },
  {
   "cell_type": "code",
   "execution_count": 6,
   "id": "2a65f0ac-aa27-40c4-80a1-9f499c91d3b6",
   "metadata": {
    "tags": []
   },
   "outputs": [
    {
     "ename": "IndexError",
     "evalue": "string index out of range",
     "output_type": "error",
     "traceback": [
      "\u001B[1;31m---------------------------------------------------------------------------\u001B[0m",
      "\u001B[1;31mIndexError\u001B[0m                                Traceback (most recent call last)",
      "\u001B[1;32m~\\AppData\\Local\\Temp/ipykernel_51696/1390903709.py\u001B[0m in \u001B[0;36m<module>\u001B[1;34m\u001B[0m\n\u001B[0;32m     14\u001B[0m     \u001B[0mclear_output\u001B[0m\u001B[1;33m(\u001B[0m\u001B[1;33m)\u001B[0m\u001B[1;33m\u001B[0m\u001B[1;33m\u001B[0m\u001B[0m\n\u001B[0;32m     15\u001B[0m \u001B[1;33m\u001B[0m\u001B[0m\n\u001B[1;32m---> 16\u001B[1;33m     \u001B[0maction\u001B[0m \u001B[1;33m=\u001B[0m \u001B[0mparse_move\u001B[0m\u001B[1;33m(\u001B[0m\u001B[0mmove_str\u001B[0m\u001B[1;33m)\u001B[0m\u001B[1;33m\u001B[0m\u001B[1;33m\u001B[0m\u001B[0m\n\u001B[0m\u001B[0;32m     17\u001B[0m \u001B[1;33m\u001B[0m\u001B[0m\n\u001B[0;32m     18\u001B[0m     \u001B[0mboard\u001B[0m\u001B[1;33m,\u001B[0m \u001B[0mreward\u001B[0m\u001B[1;33m,\u001B[0m \u001B[0mdone\u001B[0m\u001B[1;33m,\u001B[0m \u001B[0m_\u001B[0m\u001B[1;33m,\u001B[0m \u001B[0minfo\u001B[0m \u001B[1;33m=\u001B[0m \u001B[0menv\u001B[0m\u001B[1;33m.\u001B[0m\u001B[0mstep\u001B[0m\u001B[1;33m(\u001B[0m\u001B[0maction\u001B[0m\u001B[1;33m)\u001B[0m\u001B[1;33m\u001B[0m\u001B[1;33m\u001B[0m\u001B[0m\n",
      "\u001B[1;32m~\\AppData\\Local\\Temp/ipykernel_51696/3139830654.py\u001B[0m in \u001B[0;36mparse_move\u001B[1;34m(move_str)\u001B[0m\n\u001B[0;32m      1\u001B[0m \u001B[1;32mdef\u001B[0m \u001B[0mparse_move\u001B[0m\u001B[1;33m(\u001B[0m\u001B[0mmove_str\u001B[0m\u001B[1;33m)\u001B[0m\u001B[1;33m:\u001B[0m\u001B[1;33m\u001B[0m\u001B[1;33m\u001B[0m\u001B[0m\n\u001B[1;32m----> 2\u001B[1;33m     \u001B[0mrow_from\u001B[0m \u001B[1;33m=\u001B[0m \u001B[0mord\u001B[0m\u001B[1;33m(\u001B[0m\u001B[0mmove_str\u001B[0m\u001B[1;33m[\u001B[0m\u001B[1;36m0\u001B[0m\u001B[1;33m]\u001B[0m\u001B[1;33m)\u001B[0m \u001B[1;33m-\u001B[0m \u001B[0mord\u001B[0m\u001B[1;33m(\u001B[0m\u001B[1;34m'a'\u001B[0m\u001B[1;33m)\u001B[0m\u001B[1;33m\u001B[0m\u001B[1;33m\u001B[0m\u001B[0m\n\u001B[0m\u001B[0;32m      3\u001B[0m     \u001B[0mcol_from\u001B[0m \u001B[1;33m=\u001B[0m \u001B[0mint\u001B[0m\u001B[1;33m(\u001B[0m\u001B[0mmove_str\u001B[0m\u001B[1;33m[\u001B[0m\u001B[1;36m1\u001B[0m\u001B[1;33m]\u001B[0m\u001B[1;33m)\u001B[0m \u001B[1;33m-\u001B[0m \u001B[1;36m1\u001B[0m\u001B[1;33m\u001B[0m\u001B[1;33m\u001B[0m\u001B[0m\n\u001B[0;32m      4\u001B[0m     \u001B[0mrow_to\u001B[0m \u001B[1;33m=\u001B[0m \u001B[0mord\u001B[0m\u001B[1;33m(\u001B[0m\u001B[0mmove_str\u001B[0m\u001B[1;33m[\u001B[0m\u001B[1;36m2\u001B[0m\u001B[1;33m]\u001B[0m\u001B[1;33m)\u001B[0m \u001B[1;33m-\u001B[0m \u001B[0mord\u001B[0m\u001B[1;33m(\u001B[0m\u001B[1;34m'a'\u001B[0m\u001B[1;33m)\u001B[0m\u001B[1;33m\u001B[0m\u001B[1;33m\u001B[0m\u001B[0m\n\u001B[0;32m      5\u001B[0m     \u001B[0mcol_to\u001B[0m \u001B[1;33m=\u001B[0m \u001B[0mint\u001B[0m\u001B[1;33m(\u001B[0m\u001B[0mmove_str\u001B[0m\u001B[1;33m[\u001B[0m\u001B[1;36m3\u001B[0m\u001B[1;33m]\u001B[0m\u001B[1;33m)\u001B[0m \u001B[1;33m-\u001B[0m \u001B[1;36m1\u001B[0m\u001B[1;33m\u001B[0m\u001B[1;33m\u001B[0m\u001B[0m\n",
      "\u001B[1;31mIndexError\u001B[0m: string index out of range"
     ]
    }
   ],
   "source": [
    "board, info = env.reset()\n",
    "done = False\n",
    "\n",
    "while not done:\n",
    "    move = white_policy(board, mask=info['action_mask'])\n",
    "    \n",
    "    board, reward, done, _, info = env.step(move)\n",
    "\n",
    "    display(env.render())\n",
    "    moves = np.where(info['action_mask'] == True)[0]\n",
    "    print(moves)\n",
    "    \n",
    "    move_str = input()  # e.g., g8f6, c7c5\n",
    "    clear_output()\n",
    "    \n",
    "    action = parse_move(move_str)\n",
    "    \n",
    "    board, reward, done, _, info = env.step(action)"
   ]
  },
  {
   "cell_type": "code",
   "execution_count": null,
   "id": "0e3ad9f8-3057-4a77-bac4-844bed7cf178",
   "metadata": {},
   "outputs": [],
   "source": []
  }
 ],
 "metadata": {
  "kernelspec": {
   "display_name": "Python 3 (ipykernel)",
   "language": "python",
   "name": "python3"
  },
  "language_info": {
   "codemirror_mode": {
    "name": "ipython",
    "version": 3
   },
   "file_extension": ".py",
   "mimetype": "text/x-python",
   "name": "python",
   "nbconvert_exporter": "python",
   "pygments_lexer": "ipython3",
   "version": "3.8.16"
  }
 },
 "nbformat": 4,
 "nbformat_minor": 5
}
